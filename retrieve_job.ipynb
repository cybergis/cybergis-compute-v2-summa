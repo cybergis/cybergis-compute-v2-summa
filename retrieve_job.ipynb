{
 "cells": [
  {
   "cell_type": "code",
   "execution_count": null,
   "id": "00d19210",
   "metadata": {},
   "outputs": [],
   "source": [
    "from cybergis_compute_client import CyberGISCompute"
   ]
  },
  {
   "cell_type": "code",
   "execution_count": null,
   "id": "35aaf1c4",
   "metadata": {},
   "outputs": [],
   "source": [
    "# try to run this cell again if you see login error\n",
    "cybergis = CyberGISCompute(url=\"cgjobsup.cigi.illinois.edu\", isJupyter=True, protocol=\"HTTPS\", port=443, suffix=\"v2\")\n",
    "cybergis.login()"
   ]
  },
  {
   "cell_type": "code",
   "execution_count": null,
   "id": "7532d9b6",
   "metadata": {},
   "outputs": [],
   "source": [
    "#cybergis.list_job()"
   ]
  },
  {
   "cell_type": "code",
   "execution_count": null,
   "id": "caeaaf8e",
   "metadata": {},
   "outputs": [],
   "source": [
    "job = cybergis.get_job_by_id(\"1638319232oRUw5\")\n",
    "job.events()"
   ]
  },
  {
   "cell_type": "code",
   "execution_count": null,
   "id": "12264be6",
   "metadata": {},
   "outputs": [],
   "source": [
    "job.downloadResultFolder()"
   ]
  }
 ],
 "metadata": {
  "kernelspec": {
   "display_name": "SUMMA-2021-09",
   "language": "python",
   "name": "pysumma-2021-09"
  },
  "language_info": {
   "codemirror_mode": {
    "name": "ipython",
    "version": 3
   },
   "file_extension": ".py",
   "mimetype": "text/x-python",
   "name": "python",
   "nbconvert_exporter": "python",
   "pygments_lexer": "ipython3",
   "version": "3.7.9"
  }
 },
 "nbformat": 4,
 "nbformat_minor": 5
}
