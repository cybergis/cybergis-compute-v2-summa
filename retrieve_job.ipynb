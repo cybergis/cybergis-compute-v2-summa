{
 "cells": [
  {
   "cell_type": "markdown",
   "id": "867f4110",
   "metadata": {},
   "source": [
    "# Check Job Status by JobID and Download Results"
   ]
  },
  {
   "cell_type": "code",
   "execution_count": null,
   "id": "00d19210",
   "metadata": {},
   "outputs": [],
   "source": [
    "from cybergis_compute_client import CyberGISCompute"
   ]
  },
  {
   "cell_type": "markdown",
   "id": "17499c54",
   "metadata": {},
   "source": [
    "### put your jobid here"
   ]
  },
  {
   "cell_type": "code",
   "execution_count": null,
   "id": "3aa82c51",
   "metadata": {},
   "outputs": [],
   "source": [
    "myjobid = \"1638893005TgiGC\""
   ]
  },
  {
   "cell_type": "markdown",
   "id": "90145c9d",
   "metadata": {},
   "source": [
    "### connect to CyberGIS-Compute service"
   ]
  },
  {
   "cell_type": "code",
   "execution_count": null,
   "id": "35aaf1c4",
   "metadata": {},
   "outputs": [],
   "source": [
    "cybergis = CyberGISCompute(url=\"cgjobsup.cigi.illinois.edu\", isJupyter=True, protocol=\"HTTPS\", port=443, suffix=\"v2\")"
   ]
  },
  {
   "cell_type": "markdown",
   "id": "f6f71992",
   "metadata": {},
   "source": [
    "### retrieve job status"
   ]
  },
  {
   "cell_type": "code",
   "execution_count": null,
   "id": "caeaaf8e",
   "metadata": {},
   "outputs": [],
   "source": [
    "job = cybergis.get_job_by_id(myjobid)\n",
    "job.events()"
   ]
  },
  {
   "cell_type": "markdown",
   "id": "1025c612",
   "metadata": {},
   "source": [
    "### download job results (uncommnet the cell below)"
   ]
  },
  {
   "cell_type": "code",
   "execution_count": null,
   "id": "12264be6",
   "metadata": {},
   "outputs": [],
   "source": [
    "#job.downloadResultFolder()"
   ]
  },
  {
   "cell_type": "markdown",
   "id": "464b87d4",
   "metadata": {},
   "source": [
    "### Done"
   ]
  }
 ],
 "metadata": {
  "kernelspec": {
   "display_name": "SUMMA-2021-12",
   "language": "python",
   "name": "pysumma-2021-12"
  },
  "language_info": {
   "codemirror_mode": {
    "name": "ipython",
    "version": 3
   },
   "file_extension": ".py",
   "mimetype": "text/x-python",
   "name": "python",
   "nbconvert_exporter": "python",
   "pygments_lexer": "ipython3",
   "version": "3.7.9"
  }
 },
 "nbformat": 4,
 "nbformat_minor": 5
}
